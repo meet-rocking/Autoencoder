{
 "cells": [
  {
   "cell_type": "code",
   "execution_count": 31,
   "metadata": {},
   "outputs": [],
   "source": [
    "from keras.models import Model\n",
    "from keras.layers import Input, Dense, Flatten, Reshape\n",
    "from keras import utils\n",
    "from keras.layers import Conv2D, Conv2DTranspose, MaxPooling2D\n",
    "from keras.optimizers import Adam\n",
    "\n",
    "import cv2\n",
    "import os\n",
    "import random\n",
    "import numpy as np\n",
    "import matplotlib.pyplot as plt"
   ]
  },
  {
   "cell_type": "code",
   "execution_count": 64,
   "metadata": {},
   "outputs": [],
   "source": [
    "training_data = []\n",
    "path = 'C:/Users/hibat/Desktop/Github/Encoder_Decoder/Dog'\n",
    "for image in os.listdir(path):\n",
    "    #print(image)\n",
    "    try:\n",
    "        image_array = cv2.imread(os.path.join(path, image), cv2.IMREAD_GRAYSCALE)\n",
    "        new_array = cv2.resize(image_array, (28, 28))\n",
    "        #print(new_array)\n",
    "        training_data.append(new_array)\n",
    "    except:\n",
    "        pass"
   ]
  },
  {
   "cell_type": "code",
   "execution_count": 66,
   "metadata": {},
   "outputs": [],
   "source": [
    "X = []\n",
    "for image in training_data:\n",
    "    X.append(image)"
   ]
  },
  {
   "cell_type": "code",
   "execution_count": 67,
   "metadata": {},
   "outputs": [],
   "source": [
    "\n",
    "#X = X/255\n",
    "X = np.array(X).reshape(-1, 28, 28, 1)\n",
    "X = X/255"
   ]
  },
  {
   "cell_type": "code",
   "execution_count": 166,
   "metadata": {},
   "outputs": [],
   "source": [
    "encoder_input = Input(shape=(28, 28, 1), name='encoder_input')\n",
    "\n",
    "x = Conv2D(32, kernel_size = (3, 3), padding = 'same', strides=(1, 1), activation='relu')(encoder_input)\n",
    "\n",
    "x = Conv2D(64, kernel_size = (3, 3), padding = 'same', strides=(2,2), activation='relu')(x)\n",
    "\n",
    "x = Conv2D(64, kernel_size = (3, 3), padding = 'same', strides=(2, 2), activation='relu')(x)\n",
    "\n",
    "x = Conv2D(64, kernel_size = (3, 3), padding = 'same', strides=(1, 1), activation='relu')(x)\n",
    "\n",
    "x = Flatten()(x)\n",
    "\n",
    "encoder_output = Dense(2, activation='sigmoid')(x)\n"
   ]
  },
  {
   "cell_type": "code",
   "execution_count": 167,
   "metadata": {},
   "outputs": [],
   "source": [
    "model = Model(inputs=encoder_input, outputs=encoder_output)"
   ]
  },
  {
   "cell_type": "code",
   "execution_count": 169,
   "metadata": {},
   "outputs": [],
   "source": [
    "decoder_input = Input(shape=(2, ), name='decoder_input')\n",
    "#decoder_input = encoder_output\n",
    "x1 = Dense(3136)(decoder_input)\n",
    "\n",
    "x1 = Reshape((7, 7, 64))(x1)\n",
    "\n",
    "x1 = Conv2DTranspose(64, kernel_size=(3, 3), strides=(1, 1), padding='same', activation='relu')(x1)\n",
    "\n",
    "x1 = Conv2DTranspose(64, kernel_size=(3, 3), strides=(2, 2), padding='same', activation='relu')(x1)\n",
    "\n",
    "x1 = Conv2DTranspose(64, kernel_size=(3, 3), strides=(2, 2), padding='same', activation='relu')(x1)\n",
    "\n",
    "x1 = Conv2DTranspose(32, kernel_size=(3, 3), strides=(1, 1), padding='same', activation='relu')(x1)\n",
    "\n",
    "decoder_output = Conv2DTranspose(1, kernel_size=(3, 3), padding='same', activation='relu')(x1)"
   ]
  },
  {
   "cell_type": "code",
   "execution_count": 170,
   "metadata": {},
   "outputs": [],
   "source": [
    "model_1 = Model(inputs=decoder_input, outputs=decoder_output)"
   ]
  },
  {
   "cell_type": "code",
   "execution_count": 172,
   "metadata": {},
   "outputs": [],
   "source": [
    "model_x = Model(inputs = encoder_input, outputs = model_1(encoder_output))\n"
   ]
  },
  {
   "cell_type": "code",
   "execution_count": 174,
   "metadata": {},
   "outputs": [],
   "source": [
    "optimizer = Adam(lr=0.01)\n",
    "model_x.compile(loss='mean_squared_error', optimizer=optimizer, metrics=['acc'])"
   ]
  },
  {
   "cell_type": "code",
   "execution_count": 5,
   "metadata": {},
   "outputs": [],
   "source": [
    "model_x.fit(x = X, y = X, batch_size = 32, validation_split = 0.2, epochs = 10)"
   ]
  },
  {
   "cell_type": "code",
   "execution_count": 177,
   "metadata": {},
   "outputs": [],
   "source": [
    "model_x.save('Autoencoder.h5')"
   ]
  },
  {
   "cell_type": "code",
   "execution_count": 1,
   "metadata": {},
   "outputs": [],
   "source": [
    "def prepare(path):\n",
    "    image_array = cv2.imread(path, cv2.IMREAD_GRAYSCALE)\n",
    "    new_array = cv2.resize(image_array, (28, 28))\n",
    "    original_photo = np.array(new_array).reshape(28, 28)\n",
    "    #plt.imshow(original_photo)\n",
    "    #plt.show()\n",
    "    new_array = np.array(new_array).reshape(-1, 28, 28, 1)\n",
    "    img = new_array/255\n",
    "    return img"
   ]
  },
  {
   "cell_type": "code",
   "execution_count": 4,
   "metadata": {},
   "outputs": [],
   "source": [
    "#Image = model_x.predict(prepare('C:/Users/hibat/Desktop/Github/Encoder_Decoder/Dog/1.jpg'))"
   ]
  },
  {
   "cell_type": "code",
   "execution_count": 181,
   "metadata": {},
   "outputs": [],
   "source": [
    "Image = np.array(Image).reshape(28, 28)"
   ]
  },
  {
   "cell_type": "code",
   "execution_count": 3,
   "metadata": {},
   "outputs": [],
   "source": [
    "#plt.imshow(Image)\n",
    "#plt.show()"
   ]
  },
  {
   "cell_type": "code",
   "execution_count": null,
   "metadata": {},
   "outputs": [],
   "source": []
  },
  {
   "cell_type": "code",
   "execution_count": null,
   "metadata": {},
   "outputs": [],
   "source": []
  }
 ],
 "metadata": {
  "kernelspec": {
   "display_name": "Python 3",
   "language": "python",
   "name": "python3"
  },
  "language_info": {
   "codemirror_mode": {
    "name": "ipython",
    "version": 3
   },
   "file_extension": ".py",
   "mimetype": "text/x-python",
   "name": "python",
   "nbconvert_exporter": "python",
   "pygments_lexer": "ipython3",
   "version": "3.6.8"
  }
 },
 "nbformat": 4,
 "nbformat_minor": 2
}
